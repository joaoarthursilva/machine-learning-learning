{
 "cells": [
  {
   "cell_type": "code",
   "execution_count": 10,
   "metadata": {},
   "outputs": [],
   "source": [
    "from keras.datasets import cifar10\n",
    "import matplotlib.pyplot as plt\n",
    "%matplotlib inline\n",
    "from keras.utils import to_categorical"
   ]
  },
  {
   "cell_type": "code",
   "execution_count": 2,
   "metadata": {},
   "outputs": [
    {
     "name": "stdout",
     "output_type": "stream",
     "text": [
      "Downloading data from https://www.cs.toronto.edu/~kriz/cifar-10-python.tar.gz\n",
      "170500096/170498071 [==============================] - 40s 0us/step\n"
     ]
    }
   ],
   "source": [
    "(x_train,y_train),(x_test,y_test) = cifar10.load_data()"
   ]
  },
  {
   "cell_type": "code",
   "execution_count": 7,
   "metadata": {},
   "outputs": [],
   "source": [
    "x_train = x_train / x_train.max()"
   ]
  },
  {
   "cell_type": "code",
   "execution_count": 8,
   "metadata": {},
   "outputs": [],
   "source": [
    "x_test=x_test/x_test.max()"
   ]
  },
  {
   "cell_type": "code",
   "execution_count": 11,
   "metadata": {},
   "outputs": [],
   "source": [
    "y_cat_train = to_categorical(y_train,10)\n",
    "y_cat_test = to_categorical(y_test,10)"
   ]
  },
  {
   "cell_type": "code",
   "execution_count": 13,
   "metadata": {},
   "outputs": [],
   "source": [
    "from keras.models import Sequential\n",
    "from keras.layers import Dense, Conv2D,MaxPool2D,Flatten"
   ]
  },
  {
   "cell_type": "code",
   "execution_count": 14,
   "metadata": {},
   "outputs": [],
   "source": [
    "model = Sequential()\n",
    "\n",
    "model.add(Conv2D(filters=32,kernel_size=(4,4),input_shape=(32,32,3),activation='relu'))\n",
    "\n",
    "model.add(MaxPool2D(pool_size=(2,2)))\n",
    "\n",
    "model.add(Conv2D(filters=32,kernel_size=(4,4),input_shape=(32,32,3),activation='relu'))\n",
    "\n",
    "model.add(MaxPool2D(pool_size=(2,2)))\n",
    "\n",
    "model.add(Flatten())\n",
    "\n",
    "\n",
    "model.add(Dense(256,activation='relu'))\n",
    "\n",
    "model.add(Dense(10,activation='softmax'))\n",
    "\n",
    "model.compile(loss='categorical_crossentropy',\n",
    "             optimizer='rmsprop',\n",
    "             metrics=['accuracy'])"
   ]
  },
  {
   "cell_type": "code",
   "execution_count": 16,
   "metadata": {},
   "outputs": [
    {
     "name": "stdout",
     "output_type": "stream",
     "text": [
      "Model: \"sequential\"\n",
      "_________________________________________________________________\n",
      "Layer (type)                 Output Shape              Param #   \n",
      "=================================================================\n",
      "conv2d (Conv2D)              (None, 29, 29, 32)        1568      \n",
      "_________________________________________________________________\n",
      "max_pooling2d (MaxPooling2D) (None, 14, 14, 32)        0         \n",
      "_________________________________________________________________\n",
      "conv2d_1 (Conv2D)            (None, 11, 11, 32)        16416     \n",
      "_________________________________________________________________\n",
      "max_pooling2d_1 (MaxPooling2 (None, 5, 5, 32)          0         \n",
      "_________________________________________________________________\n",
      "flatten (Flatten)            (None, 800)               0         \n",
      "_________________________________________________________________\n",
      "dense (Dense)                (None, 256)               205056    \n",
      "_________________________________________________________________\n",
      "dense_1 (Dense)              (None, 10)                2570      \n",
      "=================================================================\n",
      "Total params: 225,610\n",
      "Trainable params: 225,610\n",
      "Non-trainable params: 0\n",
      "_________________________________________________________________\n"
     ]
    }
   ],
   "source": [
    "model.summary()"
   ]
  },
  {
   "cell_type": "code",
   "execution_count": 22,
   "metadata": {},
   "outputs": [
    {
     "name": "stdout",
     "output_type": "stream",
     "text": [
      "Epoch 1/12\n",
      "1563/1563 [==============================] - 15s 10ms/step - loss: 0.6031 - accuracy: 0.7957\n",
      "Epoch 2/12\n",
      "1563/1563 [==============================] - 15s 10ms/step - loss: 0.5691 - accuracy: 0.8095\n",
      "Epoch 3/12\n",
      "1563/1563 [==============================] - 15s 10ms/step - loss: 0.5406 - accuracy: 0.8183\n",
      "Epoch 4/12\n",
      "1563/1563 [==============================] - 15s 10ms/step - loss: 0.5160 - accuracy: 0.8284\n",
      "Epoch 5/12\n",
      "1563/1563 [==============================] - 15s 9ms/step - loss: 0.4937 - accuracy: 0.8369\n",
      "Epoch 6/12\n",
      "1563/1563 [==============================] - 16s 10ms/step - loss: 0.4704 - accuracy: 0.8450\n",
      "Epoch 7/12\n",
      "1563/1563 [==============================] - 16s 10ms/step - loss: 0.4599 - accuracy: 0.8484\n",
      "Epoch 8/12\n",
      "1563/1563 [==============================] - 16s 10ms/step - loss: 0.4443 - accuracy: 0.8530\n",
      "Epoch 9/12\n",
      "1563/1563 [==============================] - 15s 10ms/step - loss: 0.4341 - accuracy: 0.8587\n",
      "Epoch 10/12\n",
      "1563/1563 [==============================] - 16s 10ms/step - loss: 0.4177 - accuracy: 0.8648\n",
      "Epoch 11/12\n",
      "1563/1563 [==============================] - 15s 10ms/step - loss: 0.4149 - accuracy: 0.8644\n",
      "Epoch 12/12\n",
      "1563/1563 [==============================] - 15s 10ms/step - loss: 0.4100 - accuracy: 0.8677\n"
     ]
    },
    {
     "data": {
      "text/plain": [
       "<tensorflow.python.keras.callbacks.History at 0x1fe072f2c10>"
      ]
     },
     "execution_count": 22,
     "metadata": {},
     "output_type": "execute_result"
    }
   ],
   "source": [
    "model.fit(x_train,y_cat_train,verbose=1,epochs=12)"
   ]
  },
  {
   "cell_type": "code",
   "execution_count": 23,
   "metadata": {},
   "outputs": [
    {
     "data": {
      "text/plain": [
       "['loss', 'accuracy']"
      ]
     },
     "execution_count": 23,
     "metadata": {},
     "output_type": "execute_result"
    }
   ],
   "source": [
    "model.metrics_names"
   ]
  },
  {
   "cell_type": "code",
   "execution_count": 27,
   "metadata": {},
   "outputs": [
    {
     "name": "stdout",
     "output_type": "stream",
     "text": [
      "313/313 [==============================] - 1s 2ms/step - loss: 1.6479 - accuracy: 0.6361\n"
     ]
    },
    {
     "data": {
      "text/plain": [
       "[1.6479089260101318, 0.6360999941825867]"
      ]
     },
     "execution_count": 27,
     "metadata": {},
     "output_type": "execute_result"
    }
   ],
   "source": [
    "model.evaluate(x_test,y_cat_test)"
   ]
  },
  {
   "cell_type": "code",
   "execution_count": 25,
   "metadata": {},
   "outputs": [],
   "source": [
    "from sklearn.metrics import classification_report\n",
    "import numpy as np\n",
    "preds = np.argmax(model.predict(x_test), axis=-1)"
   ]
  },
  {
   "cell_type": "code",
   "execution_count": 28,
   "metadata": {},
   "outputs": [
    {
     "name": "stdout",
     "output_type": "stream",
     "text": [
      "              precision    recall  f1-score   support\n",
      "\n",
      "           0       0.73      0.56      0.64      1000\n",
      "           1       0.68      0.86      0.76      1000\n",
      "           2       0.43      0.69      0.53      1000\n",
      "           3       0.50      0.39      0.44      1000\n",
      "           4       0.67      0.53      0.59      1000\n",
      "           5       0.67      0.47      0.56      1000\n",
      "           6       0.71      0.75      0.73      1000\n",
      "           7       0.74      0.67      0.70      1000\n",
      "           8       0.64      0.82      0.72      1000\n",
      "           9       0.74      0.62      0.68      1000\n",
      "\n",
      "    accuracy                           0.64     10000\n",
      "   macro avg       0.65      0.64      0.63     10000\n",
      "weighted avg       0.65      0.64      0.63     10000\n",
      "\n"
     ]
    }
   ],
   "source": [
    "print(classification_report(y_test, preds))"
   ]
  },
  {
   "cell_type": "code",
   "execution_count": 29,
   "metadata": {},
   "outputs": [],
   "source": [
    "from sklearn.metrics import confusion_matrix"
   ]
  },
  {
   "cell_type": "code",
   "execution_count": 33,
   "metadata": {},
   "outputs": [
    {
     "data": {
      "text/plain": [
       "array([[564,  41, 120,  18,  22,   4,   9,  15, 178,  29],\n",
       "       [ 18, 858,  16,   2,   0,   4,   9,   3,  52,  38],\n",
       "       [ 39,  17, 688,  52,  37,  36,  56,  21,  41,  13],\n",
       "       [ 25,  27, 199, 386,  58,  93,  82,  50,  43,  37],\n",
       "       [ 19,  11, 174,  69, 529,  24,  60,  65,  31,  18],\n",
       "       [ 14,  19, 164, 131,  46, 474,  53,  57,  27,  15],\n",
       "       [  6,  19,  92,  44,  37,  18, 751,   8,  11,  14],\n",
       "       [ 18,  19, 100,  37,  51,  36,  18, 669,  14,  38],\n",
       "       [ 42,  46,  35,  15,   5,   6,  11,   5, 817,  18],\n",
       "       [ 23, 201,  28,  19,   5,   8,  10,  13,  68, 625]], dtype=int64)"
      ]
     },
     "execution_count": 33,
     "metadata": {},
     "output_type": "execute_result"
    }
   ],
   "source": [
    "confusion_matrix(y_test,preds)"
   ]
  },
  {
   "cell_type": "code",
   "execution_count": null,
   "metadata": {},
   "outputs": [],
   "source": []
  }
 ],
 "metadata": {
  "kernelspec": {
   "display_name": "Python 3",
   "language": "python",
   "name": "python3"
  },
  "language_info": {
   "codemirror_mode": {
    "name": "ipython",
    "version": 3
   },
   "file_extension": ".py",
   "mimetype": "text/x-python",
   "name": "python",
   "nbconvert_exporter": "python",
   "pygments_lexer": "ipython3",
   "version": "3.6.6"
  }
 },
 "nbformat": 4,
 "nbformat_minor": 4
}
